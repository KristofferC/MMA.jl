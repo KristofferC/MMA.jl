{
 "cells": [
  {
   "cell_type": "code",
   "execution_count": 1,
   "metadata": {
    "collapsed": true
   },
   "outputs": [],
   "source": [
    "using MMA, Suppressor"
   ]
  },
  {
   "cell_type": "code",
   "execution_count": 2,
   "metadata": {},
   "outputs": [
    {
     "data": {
      "text/plain": [
       "onenormlower (generic function with 1 method)"
      ]
     },
     "execution_count": 2,
     "metadata": {},
     "output_type": "execute_result"
    }
   ],
   "source": [
    "function loss(w, grad, X, y)\n",
    "    obj = 0.0\n",
    "    grad .= 0\n",
    "    @inbounds for i in 1:size(X, 2)\n",
    "        y_pred = w[1]\n",
    "        for j in 2:length(w)\n",
    "            y_pred += X[j-1,i] * w[j]\n",
    "        end\n",
    "        error = y_pred - y[i]\n",
    "        for j in 1:length(w)\n",
    "            if j == 1\n",
    "                grad[j] += 2*error\n",
    "            else\n",
    "                grad[j] += 2*error*X[j-1,i]\n",
    "            end\n",
    "        end\n",
    "        obj += error^2\n",
    "    end    \n",
    "    return obj\n",
    "end\n",
    "\n",
    "function onenormupper(w, grad, limit)\n",
    "    grad .= sign.(w)\n",
    "    return norm(w, 1) - limit\n",
    "end\n",
    "function onenormlower(w, grad, limit)\n",
    "    grad .= -sign.(w)\n",
    "    return limit - norm(w, 1)\n",
    "end"
   ]
  },
  {
   "cell_type": "code",
   "execution_count": 3,
   "metadata": {
    "collapsed": true
   },
   "outputs": [],
   "source": [
    "nparams = 10000\n",
    "npoints = 100\n",
    "\n",
    "srand(1)\n",
    "X = rand(nparams, npoints)\n",
    "l = 5.0\n",
    "u = 50.0\n",
    "true_w = full(sprand(nparams, (l+u)/2/nparams))\n",
    "\n",
    "y = (true_w'*X)'\n",
    "\n",
    "w0 = rand(nparams);"
   ]
  },
  {
   "cell_type": "code",
   "execution_count": 4,
   "metadata": {},
   "outputs": [
    {
     "data": {
      "text/plain": [
       "Results of Optimization Algorithm\n",
       " * Algorithm: MMA.MMA02\n",
       " * Starting Point: [0.5340869542381113,0.5825223194059725, ...]\n",
       " * Minimizer: [0.0,0.0, ...]\n",
       " * Minimum: 8.978184e+02\n",
       " * Iterations: 39\n",
       " * Convergence: true\n",
       "   * |x - x'| ≤ 1.0e-06: false \n",
       "     |x - x'| = 3.92e-03 \n",
       "   * |f(x) - f(x')| ≤ 1.5e-08 |f(x)|: true\n",
       "     |f(x) - f(x')| = 6.21e-13 |f(x)|\n",
       "   * |g(x)| ≤ 1.5e-08: false \n",
       "     |g(x)| = 5.77e+02 \n",
       "   * Stopped by an increasing objective: false\n",
       "   * Reached Maximum Number of Iterations: false\n",
       " * Objective Calls: 40\n",
       " * Gradient Calls: 40"
      ]
     },
     "execution_count": 4,
     "metadata": {},
     "output_type": "execute_result"
    }
   ],
   "source": [
    "m = MMAModel(nparams, (w, grad)->loss(w, grad, X, y), xtol = 1e-6, max_iters=200)\n",
    "# Add box constraints to the variables\n",
    "box!(m, 0.0, 1.0)\n",
    "\n",
    "ineq_constraint!(m, (w, grad)->onenormupper(w, grad, u))\n",
    "ineq_constraint!(m, (w, grad)->onenormlower(w, grad, l))\n",
    "\n",
    "# Solve the problem\n",
    "results = @suppress MMA.optimize(m, w0, MMA.MMA02(), Optim.LBFGS(), dual_caps=(0,100))"
   ]
  },
  {
   "cell_type": "code",
   "execution_count": 5,
   "metadata": {},
   "outputs": [
    {
     "data": {
      "text/plain": [
       "6.1644515502909005"
      ]
     },
     "execution_count": 5,
     "metadata": {},
     "output_type": "execute_result"
    }
   ],
   "source": [
    "w = results.minimizer\n",
    "norm(w, 1)"
   ]
  },
  {
   "cell_type": "code",
   "execution_count": 6,
   "metadata": {},
   "outputs": [
    {
     "data": {
      "text/plain": [
       "11.790602008880104"
      ]
     },
     "execution_count": 6,
     "metadata": {},
     "output_type": "execute_result"
    }
   ],
   "source": [
    "norm(true_w, 1)"
   ]
  },
  {
   "cell_type": "code",
   "execution_count": 7,
   "metadata": {},
   "outputs": [
    {
     "data": {
      "text/plain": [
       "17.9302508091891"
      ]
     },
     "execution_count": 7,
     "metadata": {},
     "output_type": "execute_result"
    }
   ],
   "source": [
    "norm(true_w - w, 1)"
   ]
  },
  {
   "cell_type": "code",
   "execution_count": 8,
   "metadata": {},
   "outputs": [
    {
     "data": {
      "text/plain": [
       "2624"
      ]
     },
     "execution_count": 8,
     "metadata": {},
     "output_type": "execute_result"
    }
   ],
   "source": [
    "sum(w .> 0.001)"
   ]
  },
  {
   "cell_type": "code",
   "execution_count": 9,
   "metadata": {},
   "outputs": [
    {
     "data": {
      "text/plain": [
       "25"
      ]
     },
     "execution_count": 9,
     "metadata": {},
     "output_type": "execute_result"
    }
   ],
   "source": [
    "sum(true_w .> 0.001)"
   ]
  },
  {
   "cell_type": "code",
   "execution_count": null,
   "metadata": {
    "collapsed": true
   },
   "outputs": [],
   "source": []
  }
 ],
 "metadata": {
  "kernelspec": {
   "display_name": "Julia 0.6.4",
   "language": "julia",
   "name": "julia-0.6"
  },
  "language_info": {
   "file_extension": ".jl",
   "mimetype": "application/julia",
   "name": "julia",
   "version": "0.6.4"
  }
 },
 "nbformat": 4,
 "nbformat_minor": 2
}
